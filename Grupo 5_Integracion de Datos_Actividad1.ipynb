{
 "cells": [
  {
   "cell_type": "markdown",
   "id": "b2b3e7d5-3a4f-4d29-994e-fb77e9665449",
   "metadata": {},
   "source": [
    "Descripción general de la actividad\n",
    "\r\n",
    "Utilizando solo métodos de la librería pandas y comandos de Python, realice las siguientes\r\n",
    "actividae\n",
    "r igual cada una de las partes"
   ]
  },
  {
   "cell_type": "raw",
   "id": "814cfdfa-db49-4807-a6e8-7850629c45df",
   "metadata": {},
   "source": [
    "Actividad #1\n",
    "\n",
    "Partiendo del fichero de la siguiente dirección:\n",
    "https://raw.githubusercontent.com/selva86/datasets/master/BostonHousing.csv\n",
    "1. Cree un Dataframe.\n",
    "2. Obtenga las dimensiones de dicho Dataframe.\n",
    "3. Obtenga el resumen estadístico de todas las columnas.\n",
    "4. Cree un segundo Dataframe a partir del fichero .csv solo con las columnas ‘crim’ y ‘medv’.\n",
    "(Importante: No debe venir del Dataframe creado en el apartado 1)\n",
    "\n",
    "Actividad #2\n",
    "\n",
    "Cree un Dataframe de Pandas utilizando el fichero de la siguiente dirección:\n",
    "https://raw.githubusercontent.com/selva86/datasets/master/Cars93_miss.csv\n",
    "1. Revise si existe algún valor nulo en el Dataframe. El comando que utilice para este\n",
    "propósito deberá devolver únicamente un resultado binario, es decir, si hay o no presente\n",
    "nulos en el Dataframe.\n",
    "2. Cuente el número de nulos en cada columna.\n",
    "3. ¿Cuál es el valor máximo de los precios (Columna ‘Price’) de un carro?\n",
    "4. Obtenga, en un solo paso, los valores del fabricante, modelo y tipo ('Manufacturer', 'Model'\n",
    "y 'Type') del carro de mayor precio (obtenido en el apartado 3).\n",
    "\n",
    "Objetivos\n",
    "\n",
    "Los objetivos de la actividad son:\n",
    "• Familiarizarse con el entorno de trabajo Python y la librería Pandas\n",
    "• Realizar lecturas de ficheros y pasos básicos con un Dataframe de Pandas.\n",
    "Estructura y formato de la actividad\n",
    "\n",
    "El entregable será un único notebook de Python con los pasos realizados para resolver ambas\n",
    "actividades.\n",
    "Criterios de evaluación o rúbrica de evaluación\n",
    "Se revisarán las cuatro partes que conforman cada actividad y se comprobará que funcionan\n",
    "correctamente, puntuando por igual cada una de las partes"
   ]
  },
  {
   "cell_type": "code",
   "execution_count": null,
   "id": "cd3ec53c-c42e-43c3-b0d8-f51c3f56ea38",
   "metadata": {},
   "outputs": [],
   "source": []
  },
  {
   "cell_type": "code",
   "execution_count": null,
   "id": "3467901a-0f9d-4a9d-bca8-65ed84b85040",
   "metadata": {},
   "outputs": [],
   "source": []
  }
 ],
 "metadata": {
  "kernelspec": {
   "display_name": "Python 3 (ipykernel)",
   "language": "python",
   "name": "python3"
  },
  "language_info": {
   "codemirror_mode": {
    "name": "ipython",
    "version": 3
   },
   "file_extension": ".py",
   "mimetype": "text/x-python",
   "name": "python",
   "nbconvert_exporter": "python",
   "pygments_lexer": "ipython3",
   "version": "3.11.7"
  }
 },
 "nbformat": 4,
 "nbformat_minor": 5
}
